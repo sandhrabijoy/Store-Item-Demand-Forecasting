{
  "nbformat": 4,
  "nbformat_minor": 0,
  "metadata": {
    "colab": {
      "provenance": [],
      "authorship_tag": "ABX9TyMHkgqUG22rrA9KwvLTrWxJ",
      "include_colab_link": true
    },
    "kernelspec": {
      "name": "python3",
      "display_name": "Python 3"
    },
    "language_info": {
      "name": "python"
    }
  },
  "cells": [
    {
      "cell_type": "markdown",
      "metadata": {
        "id": "view-in-github",
        "colab_type": "text"
      },
      "source": [
        "<a href=\"https://colab.research.google.com/github/sandhrabijoy/Store-Item-Demand-Forecasting/blob/main/SalesForecasting.ipynb\" target=\"_parent\"><img src=\"https://colab.research.google.com/assets/colab-badge.svg\" alt=\"Open In Colab\"/></a>"
      ]
    },
    {
      "cell_type": "markdown",
      "source": [
        "Setting up basics for forecasting pipeline\n"
      ],
      "metadata": {
        "id": "w_bvUwiYVkfL"
      }
    },
    {
      "cell_type": "code",
      "source": [
        "import numpy as np\n",
        "import pandas as pd\n",
        "\n",
        "import math\n",
        "import itertools\n",
        "\n",
        "#matplotlib libraries\n",
        "import matplotlib.pyplot as plt\n",
        "import matplotlib.cm as cm\n",
        "import matplotlib.colors\n",
        "import seaborn as sns\n",
        "\n",
        "#date libraries\n",
        "from dateutil import parser\n",
        "from datetime import datetime, timedelta, date\n",
        "import holidays\n",
        "\n",
        "#prophet library\n",
        "from prophet import Prophet\n",
        "from prophet.diagnostics import performance_metrics\n",
        "from prophet.plot import plot_cross_validation_metric\n",
        "from prophet.diagnostics import cross_validation\n",
        "\n",
        "#pandas options\n",
        "pd.set_option('display.float_format', lambda x:'%.2f' % x)\n",
        "pd.set_option('display.max_columns',None)\n",
        "pd.set_option('display.max_rows', None)\n",
        "\n",
        "#matplotlib setting defaults\n",
        "sns.set(font='Arial',rc={\n",
        "    \"axes.axisbelow\":False,\n",
        "    \"axes.edgecolor\":\"lightgrey\",\n",
        "    \"axes.facecolor\":\"None\",\n",
        "    \"axes.grid\":False,\n",
        "    \"axes.labelcolor\":\"dimgrey\",\n",
        "    \"axes.spines.right\":False,\n",
        "    \"axes.spines.top\":False,\n",
        "    \"figure.facecolor\":\"white\",\n",
        "    \"lines.solid_capstyle\":\"round\",\n",
        "    \"patch.edgecolor\":\"w\",\n",
        "    \"patch.force_edgecolor\":True,\n",
        "    \"text.color\":\"dimgrey\",\n",
        "    \"xtick.bottom\":False,\n",
        "    \"xtick.color\":\"dimgrey\",\n",
        "    \"xtick.direction\":\"out\",\n",
        "    \"xtick.top\":False,\n",
        "    \"ytick.color\":\"dimgrey\",\n",
        "    \"ytick.direction\":\"out\",\n",
        "    \"ytick.left\":False,\n",
        "    \"ytick.right\":False\n",
        "})"
      ],
      "metadata": {
        "id": "5MwsTRVOVqEi"
      },
      "execution_count": 4,
      "outputs": []
    },
    {
      "cell_type": "code",
      "source": [
        "def missing_data(input_data):\n",
        "  total = input_data.isnull().sum()\n",
        "  percent = (input_data.isnull().sum()/input_data.isnull().count()*100)\n",
        "  table = pd.concat([total,percent],axis=1,keys=['Total','Percent'])\n",
        "  types=[]\n",
        "  for col in input_data.columns:\n",
        "    dtype=str(input_data[col].dtype)\n",
        "    types.append(dtype)\n",
        "  table[\"Types\"]=types\n",
        "  return(pd.DataFrame(table))\n",
        "\n",
        "def mape(actual,pred):\n",
        "  actual,pred=np.array(actual),np.array(pred)\n",
        "  return np.mean(np.abs(actual-pred)/actual)*100"
      ],
      "metadata": {
        "id": "P1CWzOPqcT6X"
      },
      "execution_count": 5,
      "outputs": []
    },
    {
      "cell_type": "code",
      "source": [],
      "metadata": {
        "id": "_-wiRuDSecC0"
      },
      "execution_count": null,
      "outputs": []
    }
  ]
}